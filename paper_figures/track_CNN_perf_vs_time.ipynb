{
  "cells": [
    {
      "cell_type": "code",
      "execution_count": 1,
      "id": "72bf43d7",
      "metadata": {},
      "outputs": [
        {
          "name": "stdout",
          "output_type": "stream",
          "text": [
            "N CPUS: 110\n"
          ]
        },
        {
          "name": "stderr",
          "output_type": "stream",
          "text": [
            "/home/ronan/miniconda3/envs/dv2/lib/python3.12/site-packages/kornia/feature/lightglue.py:44: FutureWarning: `torch.cuda.amp.custom_fwd(args...)` is deprecated. Please use `torch.amp.custom_fwd(args..., device_type='cuda')` instead.\n",
            "  @torch.cuda.amp.custom_fwd(cast_inputs=torch.float32)\n"
          ]
        }
      ],
      "source": [
        "import torch\n",
        "import random\n",
        "\n",
        "import numpy as np\n",
        "import matplotlib.pyplot as plt\n",
        "import pretrained_microscopy_models as pmm\n",
        "\n",
        "import vulture.comparisons.pmm_helpers as pmm_h"
      ]
    },
    {
      "cell_type": "code",
      "execution_count": 2,
      "id": "3a416bdc",
      "metadata": {},
      "outputs": [
        {
          "data": {
            "text/plain": [
              "<torch._C.Generator at 0x7f8d8e2ad1b0>"
            ]
          },
          "execution_count": 2,
          "metadata": {},
          "output_type": "execute_result"
        }
      ],
      "source": [
        "random.seed(0)\n",
        "np.random.seed(0)\n",
        "torch.manual_seed(0)"
      ]
    },
    {
      "cell_type": "code",
      "execution_count": 3,
      "id": "cc908d07",
      "metadata": {},
      "outputs": [],
      "source": [
        "device = \"cuda\"\n",
        "arch: str = \"UnetPlusPlus\"\n",
        "encoder: str = \"resnet50\"\n",
        "pretrained_weights: str = \"micronet\"\n",
        "sparse: bool = True"
      ]
    },
    {
      "cell_type": "code",
      "execution_count": 4,
      "id": "8a03aded",
      "metadata": {},
      "outputs": [],
      "source": [
        "model = pmm_h.get_model(n_classes=3, arch=arch, encoder=encoder, pretrained_weights=pretrained_weights)"
      ]
    },
    {
      "cell_type": "code",
      "execution_count": 5,
      "id": "989e27c1",
      "metadata": {},
      "outputs": [],
      "source": [
        "class_values = {'matrix': [85,85,85],\n",
        "               'secondary': [170,170,170],\n",
        "               'tertiary' : [255,255,255],\n",
        "               }\n",
        "class_values_original = {'matrix': [0,0,0],\n",
        "               'secondary': [255,0,0],\n",
        "               'tertiary' : [0,0,255]}\n",
        "class_values_plus_unlabelled = {'matrix': [85,85,85],\n",
        "               'secondary': [170,170,170],\n",
        "               'tertiary' : [255,255,255],\n",
        "               'unlabelled': [0, 0, 0]}\n",
        "\n",
        "values = class_values_plus_unlabelled if sparse else class_values"
      ]
    },
    {
      "cell_type": "code",
      "execution_count": 6,
      "id": "d620f296",
      "metadata": {},
      "outputs": [],
      "source": [
        "DATA_PATH = \"fig_data/CNN_comparison/ni_superalloy\"\n",
        "train_path = f\"{DATA_PATH}/train_sparse_annot\" if sparse else f\"{DATA_PATH}/train_annot\"\n",
        "train_ds = pmm_h.get_dataset(values, f\"{DATA_PATH}/train\", train_path, \"train\")\n",
        "val_ds = pmm_h.get_dataset(values, f\"{DATA_PATH}/val\", f\"{DATA_PATH}/val_annot\", \"val\")\n",
        "test_ds = pmm_h.get_dataset(values, f\"{DATA_PATH}/test\", f\"{DATA_PATH}/test_annot\", \"val\")"
      ]
    },
    {
      "cell_type": "code",
      "execution_count": 7,
      "id": "29ccf253",
      "metadata": {},
      "outputs": [],
      "source": [
        "masked_loss = pmm_h.MaskedDiceBCELoss(weight=0.7)\n",
        "default_loss = pmm.losses.DiceBCELoss(weight=0.7)\n",
        "\n",
        "loss = masked_loss if sparse else default_loss"
      ]
    },
    {
      "cell_type": "code",
      "execution_count": 8,
      "id": "98fd140e",
      "metadata": {},
      "outputs": [
        {
          "name": "stdout",
          "output_type": "stream",
          "text": [
            "\n",
            "Epoch: 0, lr: 0.00020000, time: 0.00 seconds, patience step: 0, best iou: 0.0000\n",
            "train:   0%|          | 0/1 [00:00<?, ?it/s]"
          ]
        },
        {
          "name": "stdout",
          "output_type": "stream",
          "text": [
            "train: 100%|██████████| 1/1 [00:00<00:00,  1.09it/s, DiceBCELoss - 0.6932]\n",
            "valid: 100%|██████████| 2/2 [00:01<00:00,  1.79it/s, DiceBCELoss - 0.7003]\n",
            "[  0/20] (2.044): 0.1658\n",
            "\n",
            "Epoch: 1, lr: 0.00020000, time: 4.28 seconds, patience step: 0, best iou: 0.0000\n",
            "train: 100%|██████████| 1/1 [00:00<00:00,  2.33it/s, DiceBCELoss - 0.6758]\n",
            "valid: 100%|██████████| 2/2 [00:01<00:00,  1.96it/s, DiceBCELoss - 0.694] \n",
            "\n",
            "Epoch: 2, lr: 0.00020000, time: 2.48 seconds, patience step: 0, best iou: 0.0000\n",
            "train: 100%|██████████| 1/1 [00:00<00:00,  2.78it/s, DiceBCELoss - 0.6644]\n",
            "valid: 100%|██████████| 2/2 [00:01<00:00,  1.93it/s, DiceBCELoss - 0.6928]\n",
            "\n",
            "Epoch: 3, lr: 0.00020000, time: 2.04 seconds, patience step: 0, best iou: 0.0000\n",
            "train: 100%|██████████| 1/1 [00:00<00:00,  2.81it/s, DiceBCELoss - 0.6518]\n",
            "valid: 100%|██████████| 2/2 [00:01<00:00,  1.95it/s, DiceBCELoss - 0.6904]\n",
            "\n",
            "Epoch: 4, lr: 0.00020000, time: 2.05 seconds, patience step: 0, best iou: 0.0000\n",
            "train: 100%|██████████| 1/1 [00:00<00:00,  2.76it/s, DiceBCELoss - 0.645]\n",
            "valid: 100%|██████████| 2/2 [00:01<00:00,  1.95it/s, DiceBCELoss - 0.6868]\n",
            "\n",
            "Epoch: 5, lr: 0.00020000, time: 2.06 seconds, patience step: 0, best iou: 0.0000\n",
            "train: 100%|██████████| 1/1 [00:00<00:00,  2.87it/s, DiceBCELoss - 0.6512]\n",
            "valid: 100%|██████████| 2/2 [00:01<00:00,  1.95it/s, DiceBCELoss - 0.6808]\n",
            "\n",
            "Epoch: 6, lr: 0.00020000, time: 2.05 seconds, patience step: 0, best iou: 0.0000\n",
            "train: 100%|██████████| 1/1 [00:00<00:00,  2.75it/s, DiceBCELoss - 0.6309]\n",
            "valid: 100%|██████████| 2/2 [00:01<00:00,  1.94it/s, DiceBCELoss - 0.6737]\n",
            "\n",
            "Epoch: 7, lr: 0.00020000, time: 2.05 seconds, patience step: 0, best iou: 0.0000\n",
            "train: 100%|██████████| 1/1 [00:00<00:00,  2.80it/s, DiceBCELoss - 0.6341]\n",
            "valid: 100%|██████████| 2/2 [00:01<00:00,  1.94it/s, DiceBCELoss - 0.6672]\n",
            "\n",
            "Epoch: 8, lr: 0.00020000, time: 2.11 seconds, patience step: 0, best iou: 0.0000\n",
            "train: 100%|██████████| 1/1 [00:00<00:00,  2.79it/s, DiceBCELoss - 0.6406]\n",
            "valid: 100%|██████████| 2/2 [00:01<00:00,  1.94it/s, DiceBCELoss - 0.6607]\n",
            "\n",
            "Epoch: 9, lr: 0.00020000, time: 2.06 seconds, patience step: 0, best iou: 0.0000\n",
            "train: 100%|██████████| 1/1 [00:00<00:00,  2.85it/s, DiceBCELoss - 0.6294]\n",
            "valid: 100%|██████████| 2/2 [00:01<00:00,  1.95it/s, DiceBCELoss - 0.6552]\n",
            "\n",
            "Epoch: 10, lr: 0.00020000, time: 2.05 seconds, patience step: 0, best iou: 0.0000\n",
            "train: 100%|██████████| 1/1 [00:00<00:00,  2.76it/s, DiceBCELoss - 0.631]\n",
            "valid: 100%|██████████| 2/2 [00:01<00:00,  1.96it/s, DiceBCELoss - 0.6496]\n",
            "\n",
            "Epoch: 11, lr: 0.00020000, time: 2.05 seconds, patience step: 0, best iou: 0.0000\n",
            "train: 100%|██████████| 1/1 [00:00<00:00,  2.82it/s, DiceBCELoss - 0.6234]\n",
            "valid: 100%|██████████| 2/2 [00:01<00:00,  1.95it/s, DiceBCELoss - 0.644] \n",
            "\n",
            "Epoch: 12, lr: 0.00020000, time: 2.07 seconds, patience step: 0, best iou: 0.0000\n",
            "train: 100%|██████████| 1/1 [00:00<00:00,  2.79it/s, DiceBCELoss - 0.6267]\n",
            "valid: 100%|██████████| 2/2 [00:01<00:00,  1.95it/s, DiceBCELoss - 0.6372]\n",
            "\n",
            "Epoch: 13, lr: 0.00020000, time: 2.04 seconds, patience step: 0, best iou: 0.0000\n",
            "train: 100%|██████████| 1/1 [00:00<00:00,  2.76it/s, DiceBCELoss - 0.6155]\n",
            "valid: 100%|██████████| 2/2 [00:01<00:00,  1.94it/s, DiceBCELoss - 0.6303]\n",
            "\n",
            "Epoch: 14, lr: 0.00020000, time: 2.06 seconds, patience step: 0, best iou: 0.0000\n",
            "train: 100%|██████████| 1/1 [00:00<00:00,  2.75it/s, DiceBCELoss - 0.6058]\n",
            "valid: 100%|██████████| 2/2 [00:01<00:00,  1.94it/s, DiceBCELoss - 0.6243]\n",
            "\n",
            "Epoch: 15, lr: 0.00020000, time: 2.08 seconds, patience step: 0, best iou: 0.0000\n",
            "train: 100%|██████████| 1/1 [00:00<00:00,  2.82it/s, DiceBCELoss - 0.6113]\n",
            "valid: 100%|██████████| 2/2 [00:01<00:00,  1.96it/s, DiceBCELoss - 0.6192]\n",
            "\n",
            "Epoch: 16, lr: 0.00020000, time: 2.04 seconds, patience step: 0, best iou: 0.0000\n",
            "train: 100%|██████████| 1/1 [00:00<00:00,  2.77it/s, DiceBCELoss - 0.6053]\n",
            "valid: 100%|██████████| 2/2 [00:01<00:00,  1.96it/s, DiceBCELoss - 0.6144]\n",
            "\n",
            "Epoch: 17, lr: 0.00020000, time: 2.05 seconds, patience step: 0, best iou: 0.0000\n",
            "train: 100%|██████████| 1/1 [00:00<00:00,  2.74it/s, DiceBCELoss - 0.6039]\n",
            "valid: 100%|██████████| 2/2 [00:01<00:00,  1.96it/s, DiceBCELoss - 0.612] \n",
            "\n",
            "Epoch: 18, lr: 0.00020000, time: 2.07 seconds, patience step: 0, best iou: 0.0000\n",
            "train: 100%|██████████| 1/1 [00:00<00:00,  2.76it/s, DiceBCELoss - 0.6096]\n",
            "valid: 100%|██████████| 2/2 [00:01<00:00,  1.96it/s, DiceBCELoss - 0.6111]\n",
            "\n",
            "Epoch: 19, lr: 0.00020000, time: 2.03 seconds, patience step: 0, best iou: 0.0000\n",
            "train: 100%|██████████| 1/1 [00:00<00:00,  2.75it/s, DiceBCELoss - 0.6022]\n",
            "valid: 100%|██████████| 2/2 [00:01<00:00,  1.93it/s, DiceBCELoss - 0.6119]\n",
            "[ 19/20] (28.533): 0.4650\n",
            "\n",
            "\n",
            "Training done! Saving final model\n"
          ]
        }
      ],
      "source": [
        "n_epochs = 20\n",
        "save_per = 19\n",
        "results_dict, state = pmm_h.train_segmentation_model_with_eval(model, arch, encoder, train_ds, val_ds, values, 3, loss, n_epochs, save_per)"
      ]
    },
    {
      "cell_type": "code",
      "execution_count": 9,
      "id": "48682c34",
      "metadata": {},
      "outputs": [],
      "source": [
        "# results_dict, state = pmm_h.iteratively_train_cnn(train_ds, val_ds, loss, values, 150, 10, 'iter')"
      ]
    },
    {
      "cell_type": "code",
      "execution_count": 10,
      "id": "99e89fb3",
      "metadata": {},
      "outputs": [],
      "source": [
        "%%capture\n",
        "print(state['valid_loss'])\n",
        "\n",
        "plt.plot(state['train_loss'], label='train_loss')\n",
        "plt.plot(state['valid_loss'], label='valid_loss')\n",
        "plt.legend()\n",
        "plt.xlabel('epoch')\n",
        "plt.ylabel('loss')\n",
        "plt.show()"
      ]
    },
    {
      "cell_type": "code",
      "execution_count": 13,
      "id": "864dfb88",
      "metadata": {},
      "outputs": [],
      "source": [
        "%%capture\n",
        "plt.plot([i[\"tot_time\"] for i in results_dict], [i[\"miou\"] for i in results_dict])\n",
        "plt.ylabel(\"mIoU\")\n",
        "plt.xlabel(\"Time (s)\")"
      ]
    },
    {
      "cell_type": "code",
      "execution_count": 12,
      "id": "9edd6aa4",
      "metadata": {},
      "outputs": [],
      "source": [
        "out_dir = \"fig_data/CNN_comparison/ni_superalloy/stored_CNN_results/\"\n",
        "out_path = f\"{out_dir}/sparse_data_4_imgs_e{n_epochs}.npy\" if sparse else f\"{out_dir}/full_data_4_imgs_e{n_epochs}.npy\"\n",
        "np.save(out_path, results_dict)"
      ]
    },
    {
      "cell_type": "code",
      "execution_count": null,
      "id": "d2871f5a",
      "metadata": {},
      "outputs": [],
      "source": []
    }
  ],
  "metadata": {
    "kernelspec": {
      "display_name": "dv2",
      "language": "python",
      "name": "python3"
    },
    "language_info": {
      "codemirror_mode": {
        "name": "ipython",
        "version": 3
      },
      "file_extension": ".py",
      "mimetype": "text/x-python",
      "name": "python",
      "nbconvert_exporter": "python",
      "pygments_lexer": "ipython3",
      "version": "3.12.4"
    }
  },
  "nbformat": 4,
  "nbformat_minor": 5
}
