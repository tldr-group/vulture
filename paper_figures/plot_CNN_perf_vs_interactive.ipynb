{
 "cells": [
  {
   "cell_type": "code",
   "execution_count": 1,
   "id": "0385c083",
   "metadata": {},
   "outputs": [
    {
     "name": "stdout",
     "output_type": "stream",
     "text": [
      "N CPUS: 110\n"
     ]
    }
   ],
   "source": [
    "import numpy as np\n",
    "import torch\n",
    "from random import seed\n",
    "from os import listdir\n",
    "from time import time\n",
    "import matplotlib.pyplot as plt\n",
    "\n",
    "from yoeo.main import get_dv2_model, get_upsampler_and_expr\n",
    "from interactive_seg_backend.configs import FeatureConfig, TrainingConfig\n",
    "from is_helpers import AllowedDatasets, eval_preds, get_pca_over_images_or_dir, get_and_cache_features_over_images, train_model_over_images, apply_model_over_images\n",
    "    \n",
    "from typing import Literal\n",
    "\n",
    "SEED = 10672\n",
    "seed(SEED)\n",
    "np.random.seed(SEED)\n",
    "torch.manual_seed(SEED)\n",
    "DEVICE = \"cuda:1\""
   ]
  },
  {
   "cell_type": "code",
   "execution_count": 2,
   "id": "1593d012",
   "metadata": {},
   "outputs": [
    {
     "name": "stderr",
     "output_type": "stream",
     "text": [
      "Using cache found in /home/ronan/.cache/torch/hub/ywyue_FiT3D_main\n"
     ]
    },
    {
     "name": "stdout",
     "output_type": "stream",
     "text": [
      "[128, 128, 128, 128]\n"
     ]
    }
   ],
   "source": [
    "dv2 = get_dv2_model(True, device=DEVICE)\n",
    "\n",
    "model_path = \"../trained_models/e5000_full_fit_reg.pth\"\n",
    "cfg_path = \"../yoeo/models/configs/combined_no_shift.json\"\n",
    "\n",
    "upsampler, expr = get_upsampler_and_expr(model_path, cfg_path, device=DEVICE)"
   ]
  },
  {
   "cell_type": "code",
   "execution_count": 3,
   "id": "c05b3625",
   "metadata": {},
   "outputs": [],
   "source": [
    "SAVE: bool = False\n",
    "PATH = \"fig_data/is_benchmark\"\n",
    "AllowedDatasets = Literal[\"Ni_superalloy_SEM\", \"T_cell_TEM\", \"Cu_ore_RLM\"]\n",
    "dataset: tuple[AllowedDatasets, ...] = (\"Ni_superalloy_SEM\", \"T_cell_TEM\", \"Cu_ore_RLM\")\n",
    "\n",
    "chosen_dataset = \"Ni_superalloy_SEM\"\n",
    "fnames = sorted(listdir(f\"{PATH}/{chosen_dataset}/images/\"))\n",
    "images = [f\"{PATH}/{chosen_dataset}/images/{fname}\" for fname in fnames]"
   ]
  },
  {
   "cell_type": "code",
   "execution_count": 4,
   "id": "7cdef3dc",
   "metadata": {},
   "outputs": [],
   "source": [
    "pca = get_pca_over_images_or_dir(images, dv2)\n",
    "\n",
    "feat_cfg = FeatureConfig()\n",
    "train_cfg = TrainingConfig(feat_cfg, n_samples=-1, add_dino_features=True, classifier='xgb', classifier_params = {\"class_weight\": \"balanced\", \"max_depth\": 32,})\n",
    "classical_train_cfg = TrainingConfig(feat_cfg, n_samples=-1, add_dino_features=False, classifier='xgb', classifier_params = {\"class_weight\": \"balanced\", \"max_depth\": 32,})"
   ]
  },
  {
   "cell_type": "code",
   "execution_count": 5,
   "id": "a2ca5ece",
   "metadata": {},
   "outputs": [],
   "source": [
    "start_feat_t = time()\n",
    "get_and_cache_features_over_images(chosen_dataset, train_cfg, '.tmp', PATH, dv2, upsampler, expr, pca)\n",
    "end_feat_t = time()"
   ]
  },
  {
   "cell_type": "code",
   "execution_count": 6,
   "id": "8adc846d",
   "metadata": {},
   "outputs": [],
   "source": [
    "TRAIN_IMG_FNAMES: dict[AllowedDatasets, list[str]] = {\"Cu_ore_RLM\": [\"004\", \"028\", \"049\", \"077\"], \n",
    "                                                      \"Ni_superalloy_SEM\": [\"000\", \"001\", \"005\", \"007\"], \n",
    "                                                      \"T_cell_TEM\": [\"000\", \"005\", \"007\", \"026\"]\n",
    "                                                      }"
   ]
  },
  {
   "cell_type": "code",
   "execution_count": 7,
   "id": "ae54556a",
   "metadata": {},
   "outputs": [],
   "source": [
    "base_labels = TRAIN_IMG_FNAMES[chosen_dataset] #[\"000\", \"001\", \"005\", \"007\"]\n",
    "all_label_paths = sorted(listdir(f\"{PATH}/{chosen_dataset}/labels\"))\n",
    "all_label_fnames = [fname.split('.')[0] for fname in all_label_paths]\n",
    "\n",
    "label_fnames = base_labels + [fname for fname in all_label_fnames if fname not in base_labels]"
   ]
  },
  {
   "cell_type": "code",
   "execution_count": null,
   "id": "457fa37d",
   "metadata": {},
   "outputs": [
    {
     "name": "stdout",
     "output_type": "stream",
     "text": [
      "(4/22): 0.7516 +/-0.1052\n"
     ]
    }
   ],
   "source": [
    "start_sparse_train_apply_t = time()\n",
    "selected_labels = TRAIN_IMG_FNAMES[chosen_dataset]\n",
    "feat_paths = [f\"{PATH}/.tmp/{name.split('.')[0]}.npy\" for name in selected_labels]\n",
    "classifier, _ = train_model_over_images(chosen_dataset, train_cfg, PATH, selected_labels , dv2, upsampler, expr, feat_paths, overwrite_with_gt=True)\n",
    "\n",
    "all_feat_fnames = [f\"{PATH}/.tmp/{fname}\" for fname in sorted(listdir(f\"{PATH}/.tmp\"))]\n",
    "sparse_deep_preds = apply_model_over_images(chosen_dataset, train_cfg, classifier, PATH, dv2, upsampler, expr, False, -1, pca, all_feat_fnames)\n",
    "sparse_miou, sparse_std_miou = eval_preds(chosen_dataset, sparse_deep_preds, PATH)\n",
    "print(f\"(4/22): {sparse_miou:.4f} +/-{sparse_std_miou:.4f}\")\n",
    "end_sparse_train_apply_t = time()"
   ]
  },
  {
   "cell_type": "code",
   "execution_count": null,
   "id": "4e7963eb",
   "metadata": {},
   "outputs": [
    {
     "name": "stdout",
     "output_type": "stream",
     "text": [
      "(4/22): 0.7879 +/-0.1467\n"
     ]
    }
   ],
   "source": [
    "start_full_train_apply_t = time()\n",
    "selected_labels = TRAIN_IMG_FNAMES[chosen_dataset]\n",
    "feat_paths = [f\"{PATH}/.tmp/{name.split('.')[0]}.npy\" for name in selected_labels]\n",
    "classifier, _ = train_model_over_images(chosen_dataset, train_cfg, PATH, selected_labels , dv2, upsampler, expr, feat_paths, reveal_all=True)\n",
    "\n",
    "all_feat_fnames = [f\"{PATH}/.tmp/{fname}\" for fname in sorted(listdir(f\"{PATH}/.tmp\"))]\n",
    "full_deep_preds = apply_model_over_images(chosen_dataset, train_cfg, classifier, PATH, dv2, upsampler, expr, False, -1, pca, all_feat_fnames)\n",
    "full_miou, full_std_miou = eval_preds(chosen_dataset, full_deep_preds, PATH)\n",
    "print(f\"(4/22): {full_miou:.4f} +/-{full_std_miou:.4f}\")\n",
    "end_full_train_apply_t = time()"
   ]
  },
  {
   "cell_type": "code",
   "execution_count": 10,
   "id": "30254971",
   "metadata": {},
   "outputs": [],
   "source": [
    "n_epochs = 200\n",
    "out_dir = \"fig_data/CNN_comparison/ni_superalloy/stored_CNN_results/\"\n",
    "cnn_full_data = np.load(f\"{out_dir}/full_data_4_imgs_e{n_epochs}.npy\", allow_pickle=True)\n",
    "cnn_sparse_data = np.load(f\"{out_dir}/sparse_data_4_imgs_e{n_epochs}.npy\", allow_pickle=True)"
   ]
  },
  {
   "cell_type": "code",
   "execution_count": 28,
   "id": "f2db58a8",
   "metadata": {},
   "outputs": [],
   "source": [
    "cnn_full_times = [0] + [d[\"tot_time\"] for d in cnn_full_data]\n",
    "cnn_full_mious = [0] + [d[\"miou\"] for d in cnn_full_data]\n",
    "cnn_sparse_times = [0] +[d[\"tot_time\"] for d in cnn_sparse_data]\n",
    "cnn_sparse_mious = [0] +[d[\"miou\"] for d in cnn_sparse_data]"
   ]
  },
  {
   "cell_type": "code",
   "execution_count": 29,
   "id": "a8366249",
   "metadata": {},
   "outputs": [],
   "source": [
    "sparse_t = (end_feat_t - start_feat_t) + (end_sparse_train_apply_t - start_sparse_train_apply_t)\n",
    "full_t = (end_feat_t - start_feat_t) + (end_full_train_apply_t - start_full_train_apply_t)"
   ]
  },
  {
   "cell_type": "code",
   "execution_count": 43,
   "id": "0f3cb236",
   "metadata": {},
   "outputs": [],
   "source": [
    "deep_sparse_times = [0, sparse_t-0.1, sparse_t, cnn_sparse_times[-1]]\n",
    "deep_sparse_mious = [0, 0, sparse_miou, sparse_miou]\n",
    "\n",
    "deep_full_times = [0, full_t-0.1, full_t, cnn_full_times[-1]]\n",
    "deep_full_mious = [0, 0, full_miou, full_miou]\n",
    "\n",
    "save_per = 10\n",
    "for i, t in enumerate(cnn_sparse_times):\n",
    "    if t > sparse_t:\n",
    "        sparse_train_to_idx = i\n",
    "        break\n",
    "sparse_train_to_epoch = (sparse_train_to_idx - 1) * save_per\n",
    "\n",
    "\n",
    "for i, t in enumerate(cnn_full_times):\n",
    "    if t > full_t:\n",
    "        full_train_to_idx = i\n",
    "        break\n",
    "full_train_to_epoch = (full_train_to_idx - 1) * save_per"
   ]
  },
  {
   "cell_type": "code",
   "execution_count": null,
   "id": "86c15833",
   "metadata": {},
   "outputs": [],
   "source": [
    "results_dict, state = pmm_h.train_segmentation_model_with_eval(model, arch, encoder, train_ds, val_ds, values, 3, loss, n_epochs, save_per)"
   ]
  },
  {
   "cell_type": "code",
   "execution_count": 34,
   "id": "3f54a305",
   "metadata": {},
   "outputs": [
    {
     "data": {
      "text/plain": [
       "Text(0.5, 0, 'Time (s)')"
      ]
     },
     "execution_count": 34,
     "metadata": {},
     "output_type": "execute_result"
    },
    {
     "data": {
      "image/png": "[encoded data removed]",
      "text/plain": [
       "<Figure size 640x480 with 1 Axes>"
      ]
     },
     "metadata": {},
     "output_type": "display_data"
    }
   ],
   "source": [
    "plt.plot(cnn_full_times, cnn_full_mious, color='C0', ls='-')\n",
    "plt.plot(cnn_sparse_times, cnn_sparse_mious, color='C0', ls='--')\n",
    "\n",
    "plt.plot(deep_full_times, deep_full_mious, color='C1', ls='-')\n",
    "plt.plot(deep_sparse_times, deep_sparse_mious, color='C1', ls='--')\n",
    "\n",
    "plt.ylabel('mIoU')\n",
    "plt.xlabel('Time (s)')"
   ]
  }
 ],
 "metadata": {
  "kernelspec": {
   "display_name": "dv2",
   "language": "python",
   "name": "python3"
  },
  "language_info": {
   "codemirror_mode": {
    "name": "ipython",
    "version": 3
   },
   "file_extension": ".py",
   "mimetype": "text/x-python",
   "name": "python",
   "nbconvert_exporter": "python",
   "pygments_lexer": "ipython3",
   "version": "3.12.4"
  }
 },
 "nbformat": 4,
 "nbformat_minor": 5
}
