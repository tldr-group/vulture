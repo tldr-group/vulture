{
 "cells": [
  {
   "cell_type": "code",
   "execution_count": 59,
   "id": "0385c083",
   "metadata": {},
   "outputs": [],
   "source": [
    "import numpy as np\n",
    "import torch\n",
    "from random import seed\n",
    "from os import listdir\n",
    "from time import time\n",
    "import matplotlib.pyplot as plt\n",
    "from skimage.color import label2rgb\n",
    "\n",
    "from yoeo.main import get_dv2_model, get_upsampler_and_expr\n",
    "from interactive_seg_backend.configs import FeatureConfig, TrainingConfig\n",
    "from is_helpers import AllowedDatasets, eval_preds, get_pca_over_images_or_dir, get_and_cache_features_over_images, train_model_over_images, apply_model_over_images\n",
    "    \n",
    "from typing import Literal\n",
    "\n",
    "SEED = 10672\n",
    "seed(SEED)\n",
    "np.random.seed(SEED)\n",
    "torch.manual_seed(SEED)\n",
    "DEVICE = \"cuda:1\""
   ]
  },
  {
   "cell_type": "code",
   "execution_count": 2,
   "id": "1593d012",
   "metadata": {},
   "outputs": [
    {
     "name": "stderr",
     "output_type": "stream",
     "text": [
      "Using cache found in /home/ronan/.cache/torch/hub/ywyue_FiT3D_main\n"
     ]
    },
    {
     "name": "stdout",
     "output_type": "stream",
     "text": [
      "[128, 128, 128, 128]\n"
     ]
    }
   ],
   "source": [
    "dv2 = get_dv2_model(True, device=DEVICE)\n",
    "\n",
    "model_path = \"../trained_models/e5000_full_fit_reg.pth\"\n",
    "cfg_path = \"../yoeo/models/configs/combined_no_shift.json\"\n",
    "\n",
    "upsampler, expr = get_upsampler_and_expr(model_path, cfg_path, device=DEVICE)"
   ]
  },
  {
   "cell_type": "code",
   "execution_count": 3,
   "id": "c05b3625",
   "metadata": {},
   "outputs": [],
   "source": [
    "SAVE: bool = False\n",
    "PATH = \"fig_data/is_benchmark\"\n",
    "AllowedDatasets = Literal[\"Ni_superalloy_SEM\", \"T_cell_TEM\", \"Cu_ore_RLM\"]\n",
    "dataset: tuple[AllowedDatasets, ...] = (\"Ni_superalloy_SEM\", \"T_cell_TEM\", \"Cu_ore_RLM\")\n",
    "\n",
    "chosen_dataset = \"Ni_superalloy_SEM\"\n",
    "fnames = sorted(listdir(f\"{PATH}/{chosen_dataset}/images/\"))\n",
    "images = [f\"{PATH}/{chosen_dataset}/images/{fname}\" for fname in fnames]"
   ]
  },
  {
   "cell_type": "code",
   "execution_count": 4,
   "id": "7cdef3dc",
   "metadata": {},
   "outputs": [],
   "source": [
    "pca = get_pca_over_images_or_dir(images, dv2)\n",
    "\n",
    "feat_cfg = FeatureConfig()\n",
    "train_cfg = TrainingConfig(feat_cfg, n_samples=-1, add_dino_features=True, classifier='xgb', classifier_params = {\"class_weight\": \"balanced\", \"max_depth\": 32,})\n",
    "classical_train_cfg = TrainingConfig(feat_cfg, n_samples=-1, add_dino_features=False, classifier='xgb', classifier_params = {\"class_weight\": \"balanced\", \"max_depth\": 32,})"
   ]
  },
  {
   "cell_type": "code",
   "execution_count": 5,
   "id": "a2ca5ece",
   "metadata": {},
   "outputs": [],
   "source": [
    "start_feat_t = time()\n",
    "get_and_cache_features_over_images(chosen_dataset, train_cfg, '.tmp', PATH, dv2, upsampler, expr, pca)\n",
    "end_feat_t = time()"
   ]
  },
  {
   "cell_type": "code",
   "execution_count": 6,
   "id": "8adc846d",
   "metadata": {},
   "outputs": [],
   "source": [
    "TRAIN_IMG_FNAMES: dict[AllowedDatasets, list[str]] = {\"Cu_ore_RLM\": [\"004\", \"028\", \"049\", \"077\"], \n",
    "                                                      \"Ni_superalloy_SEM\": [\"000\", \"001\", \"005\", \"007\"], \n",
    "                                                      \"T_cell_TEM\": [\"000\", \"005\", \"007\", \"026\"]\n",
    "                                                      }"
   ]
  },
  {
   "cell_type": "code",
   "execution_count": 7,
   "id": "ae54556a",
   "metadata": {},
   "outputs": [],
   "source": [
    "base_labels = TRAIN_IMG_FNAMES[chosen_dataset] #[\"000\", \"001\", \"005\", \"007\"]\n",
    "all_label_paths = sorted(listdir(f\"{PATH}/{chosen_dataset}/labels\"))\n",
    "all_label_fnames = [fname.split('.')[0] for fname in all_label_paths]\n",
    "\n",
    "label_fnames = base_labels + [fname for fname in all_label_fnames if fname not in base_labels]"
   ]
  },
  {
   "cell_type": "code",
   "execution_count": 8,
   "id": "457fa37d",
   "metadata": {},
   "outputs": [
    {
     "name": "stdout",
     "output_type": "stream",
     "text": [
      "(4/22): 0.7523 +/-0.1067\n"
     ]
    }
   ],
   "source": [
    "start_sparse_train_apply_t = time()\n",
    "selected_labels = TRAIN_IMG_FNAMES[chosen_dataset]\n",
    "feat_paths = [f\"{PATH}/.tmp/{name.split('.')[0]}.npy\" for name in selected_labels]\n",
    "classifier, _ = train_model_over_images(chosen_dataset, train_cfg, PATH, selected_labels , dv2, upsampler, expr, feat_paths, overwrite_with_gt=True)\n",
    "\n",
    "all_feat_fnames = [f\"{PATH}/.tmp/{fname}\" for fname in sorted(listdir(f\"{PATH}/.tmp\"))]\n",
    "sparse_deep_preds = apply_model_over_images(chosen_dataset, train_cfg, classifier, PATH, dv2, upsampler, expr, False, -1, pca, all_feat_fnames)\n",
    "sparse_miou, sparse_std_miou = eval_preds(chosen_dataset, sparse_deep_preds, PATH)\n",
    "print(f\"(4/22): {sparse_miou:.4f} +/-{sparse_std_miou:.4f}\")\n",
    "end_sparse_train_apply_t = time()"
   ]
  },
  {
   "cell_type": "code",
   "execution_count": 9,
   "id": "4e7963eb",
   "metadata": {},
   "outputs": [
    {
     "name": "stdout",
     "output_type": "stream",
     "text": [
      "(4/22): 0.7876 +/-0.1477\n"
     ]
    }
   ],
   "source": [
    "start_full_train_apply_t = time()\n",
    "selected_labels = TRAIN_IMG_FNAMES[chosen_dataset]\n",
    "feat_paths = [f\"{PATH}/.tmp/{name.split('.')[0]}.npy\" for name in selected_labels]\n",
    "classifier, _ = train_model_over_images(chosen_dataset, train_cfg, PATH, selected_labels , dv2, upsampler, expr, feat_paths, reveal_all=True)\n",
    "\n",
    "all_feat_fnames = [f\"{PATH}/.tmp/{fname}\" for fname in sorted(listdir(f\"{PATH}/.tmp\"))]\n",
    "full_deep_preds = apply_model_over_images(chosen_dataset, train_cfg, classifier, PATH, dv2, upsampler, expr, False, -1, pca, all_feat_fnames)\n",
    "full_miou, full_std_miou = eval_preds(chosen_dataset, full_deep_preds, PATH)\n",
    "print(f\"(4/22): {full_miou:.4f} +/-{full_std_miou:.4f}\")\n",
    "end_full_train_apply_t = time()"
   ]
  },
  {
   "cell_type": "code",
   "execution_count": 10,
   "id": "30254971",
   "metadata": {},
   "outputs": [],
   "source": [
    "n_epochs = 200\n",
    "out_dir = \"fig_data/CNN_comparison/ni_superalloy/stored_CNN_results/\"\n",
    "cnn_full_data = np.load(f\"{out_dir}/full_data_4_imgs_e{n_epochs}.npy\", allow_pickle=True)\n",
    "cnn_sparse_data = np.load(f\"{out_dir}/sparse_data_4_imgs_e{n_epochs}.npy\", allow_pickle=True)"
   ]
  },
  {
   "cell_type": "code",
   "execution_count": 11,
   "id": "f2db58a8",
   "metadata": {},
   "outputs": [],
   "source": [
    "cnn_full_times = [0] + [d[\"tot_time\"] for d in cnn_full_data]\n",
    "cnn_full_mious = [0] + [d[\"miou\"] for d in cnn_full_data]\n",
    "cnn_sparse_times = [0] +[d[\"tot_time\"] for d in cnn_sparse_data]\n",
    "cnn_sparse_mious = [0] +[d[\"miou\"] for d in cnn_sparse_data]"
   ]
  },
  {
   "cell_type": "code",
   "execution_count": 12,
   "id": "a8366249",
   "metadata": {},
   "outputs": [],
   "source": [
    "sparse_t = (end_feat_t - start_feat_t) + (end_sparse_train_apply_t - start_sparse_train_apply_t)\n",
    "full_t = (end_feat_t - start_feat_t) + (end_full_train_apply_t - start_full_train_apply_t)"
   ]
  },
  {
   "cell_type": "code",
   "execution_count": 13,
   "id": "0f3cb236",
   "metadata": {},
   "outputs": [
    {
     "name": "stdout",
     "output_type": "stream",
     "text": [
      "20 30\n"
     ]
    }
   ],
   "source": [
    "deep_sparse_times = [0, sparse_t-0.1, sparse_t, cnn_sparse_times[-1]]\n",
    "deep_sparse_mious = [0, 0, sparse_miou, sparse_miou]\n",
    "\n",
    "deep_full_times = [0, full_t-0.1, full_t, cnn_full_times[-1]]\n",
    "deep_full_mious = [0, 0, full_miou, full_miou]\n",
    "\n",
    "save_per = 10\n",
    "for i, t in enumerate(cnn_sparse_times):\n",
    "    if t > sparse_t:\n",
    "        sparse_train_to_idx = i\n",
    "        break\n",
    "sparse_train_to_epoch = (sparse_train_to_idx - 1) * save_per\n",
    "\n",
    "\n",
    "for i, t in enumerate(cnn_full_times):\n",
    "    if t > full_t:\n",
    "        full_train_to_idx = i\n",
    "        break\n",
    "full_train_to_epoch = (full_train_to_idx - 1) * save_per\n",
    "print(sparse_train_to_epoch, full_train_to_epoch)"
   ]
  },
  {
   "cell_type": "code",
   "execution_count": 14,
   "id": "2552916f",
   "metadata": {},
   "outputs": [],
   "source": [
    "cnn_full_data_at_is_train_end = np.load(f\"{out_dir}/full_data_4_imgs_e{full_train_to_epoch}.npy\", allow_pickle=True)\n",
    "cnn_sparse_data_at_is_train_end = np.load(f\"{out_dir}/sparse_data_4_imgs_e{sparse_train_to_epoch}.npy\", allow_pickle=True)"
   ]
  },
  {
   "cell_type": "code",
   "execution_count": 60,
   "id": "67f6e6c1",
   "metadata": {},
   "outputs": [],
   "source": [
    "color_list = [[255, 255, 255], [0, 62, 131], [181, 209, 204], [250, 43, 0], [255, 184, 82]]\n",
    "COLORS = np.array(color_list) / 255.0"
   ]
  },
  {
   "cell_type": "code",
   "execution_count": 178,
   "id": "a0a5a3eb",
   "metadata": {},
   "outputs": [],
   "source": [
    "TITLE_FS = 25\n",
    "LABEL_FS = 23\n",
    "TICK_FS = 21\n",
    "PAD = 60\n",
    "TITLE_PAD=25\n",
    "\n",
    "def hide_axis_ticks(ax, frameoff: bool=True):\n",
    "    ax.tick_params(which=\"both\", bottom=False, top=False, left=False, right=False)\n",
    "    ax.set_xticklabels([])\n",
    "    ax.set_yticklabels([])\n",
    "\n",
    "    if frameoff:\n",
    "        ax.set_frame_on(False)"
   ]
  },
  {
   "cell_type": "code",
   "execution_count": 120,
   "id": "656e8e1b",
   "metadata": {},
   "outputs": [],
   "source": [
    "from tifffile import imread\n",
    "img = imread((images[9]))\n",
    "label = imread(f\"{PATH}/{chosen_dataset}/segmentations/009.tif\")"
   ]
  },
  {
   "cell_type": "code",
   "execution_count": 121,
   "id": "44a8a64d",
   "metadata": {},
   "outputs": [],
   "source": [
    "cnn_sparse_final_dict = cnn_sparse_data_at_is_train_end[-1]\n",
    "cnn_sparse_pred = cnn_sparse_final_dict['preds'][2]\n",
    "is_sparse_pred = sparse_deep_preds['009.tif']\n",
    "\n",
    "cnn_full_final_dict = cnn_full_data_at_is_train_end[-1]\n",
    "gt = cnn_full_final_dict['gts'][2]\n",
    "cnn_full_pred = cnn_full_final_dict['preds'][2]\n",
    "is_full_pred = full_deep_preds['009.tif']"
   ]
  },
  {
   "cell_type": "code",
   "execution_count": 180,
   "id": "3e0bebd7",
   "metadata": {},
   "outputs": [],
   "source": [
    "%%capture\n",
    "import matplotlib.gridspec as gridspec\n",
    "import matplotlib.patches as patches\n",
    "\n",
    "plt.rcParams[\"font.family\"] = \"serif\"\n",
    "\n",
    "# Create the figure\n",
    "fig = plt.figure(figsize=(20, 8))\n",
    "\n",
    "# Define the GridSpec\n",
    "# Set width ratios: first column is 2x wider\n",
    "gs = gridspec.GridSpec(2, 5, width_ratios=[2.5, 1, 0.2, 1, 1])\n",
    "\n",
    "# Add the large plot spanning 2 rows and 1 column (first column)\n",
    "ax_large = fig.add_subplot(gs[:, 0])  # All rows, column 0\n",
    "\n",
    "ax_large.plot(cnn_full_times, cnn_full_mious, color='C0', ls='-', lw=2, label='CNN, full')\n",
    "ax_large.plot(cnn_sparse_times, cnn_sparse_mious, color='C0', ls='--', lw=2, label='CNN, sparse')\n",
    "\n",
    "ax_large.plot(deep_full_times, deep_full_mious, color='C1', ls='-', lw=2, label='IS, full')\n",
    "ax_large.plot(deep_sparse_times, deep_sparse_mious, color='C1', ls='--', lw=2, label='IS, sparse')\n",
    "\n",
    "ax_large.set_ylabel('mIoU', fontsize=LABEL_FS)\n",
    "ax_large.set_xlabel('Time (s)', fontsize=LABEL_FS)\n",
    "\n",
    "ax_large.tick_params(axis='both', labelsize=TICK_FS)\n",
    "\n",
    "ax_large.legend(fontsize=TICK_FS)\n",
    "\n",
    "# Add the remaining subplots\n",
    "ax_1 = fig.add_subplot(gs[0, 1])\n",
    "ax_1.imshow(img, cmap='gist_grey')\n",
    "hide_axis_ticks(ax_1)\n",
    "ax_1.set_title('Val. Image', fontsize=TITLE_FS)\n",
    "\n",
    "\n",
    "ax_2 = fig.add_subplot(gs[0, 3])\n",
    "ax_2.set_ylabel('Sparse labels', fontsize=LABEL_FS)\n",
    "ax_2.set_title('CNN', fontsize=TITLE_FS, pad=TITLE_PAD)\n",
    "ax_2.imshow(label2rgb(cnn_sparse_pred, colors=COLORS[1:], bg_label=-1))\n",
    "hide_axis_ticks(ax_2)\n",
    "\n",
    "ax_3 = fig.add_subplot(gs[0, 4])\n",
    "ax_3.set_title('HR ViT', fontsize=TITLE_FS, pad=TITLE_PAD)\n",
    "ax_3.imshow(label2rgb(is_sparse_pred, colors=COLORS[1:], bg_label=-1))\n",
    "hide_axis_ticks(ax_3)\n",
    "\n",
    "\n",
    "ax_4 = fig.add_subplot(gs[1, 1])\n",
    "ax_4.set_title('Ground truth', fontsize=TITLE_FS)\n",
    "ax_4.imshow(label2rgb(label, colors=COLORS[1:], bg_label=-1))\n",
    "hide_axis_ticks(ax_4)\n",
    "\n",
    "ax_5 = fig.add_subplot(gs[1, 3])\n",
    "ax_5.set_ylabel('Full labels', fontsize=LABEL_FS)\n",
    "ax_5.imshow(label2rgb(cnn_full_pred, colors=COLORS[1:], bg_label=-1))\n",
    "hide_axis_ticks(ax_5)\n",
    "\n",
    "ax_6 = fig.add_subplot(gs[1, 4])\n",
    "ax_6.imshow(label2rgb(is_full_pred, colors=COLORS[1:], bg_label=-1))\n",
    "hide_axis_ticks(ax_6)\n",
    "\n",
    "for key, ax in zip(('a', 'b'), (ax_large, ax_1,)):\n",
    "    y = 1.20 if key =='b' else 1.05\n",
    "    x = -0.20 if key =='b' else -0.15\n",
    "    ax.text(x, y, f\"{key}.\", transform=ax.transAxes, \n",
    "            size=LABEL_FS + 4, weight='bold')\n",
    "\n",
    "\n",
    "\n",
    "for ax_pair in ((ax_2, ax_3), (ax_5, ax_6)):\n",
    "    ax1, ax2 = ax_pair\n",
    "    pos1 = ax1.get_position()\n",
    "    pos2 = ax2.get_position()\n",
    "\n",
    "    # Compute bounding box that covers both axes\n",
    "    x0 = pos1.x0\n",
    "    y0 = min(pos1.y0, pos2.y0)\n",
    "    x1 = pos2.x1\n",
    "    y1 = max(pos1.y1, pos2.y1)\n",
    "\n",
    "    # Add rectangle to figure behind those axes\n",
    "    rect = patches.FancyBboxPatch(\n",
    "        (x0 - 0.01, y0 - 0.01),           # Bottom left corner\n",
    "        (x1 - x0) + 0.01,                 # Width\n",
    "        (y1 - y0) + 0.02,                 # Height\n",
    "        boxstyle=\"square,pad=0.02\",\n",
    "        # boxstyle=\"\",\n",
    "        # edgecolor=\"red\",\n",
    "        edgecolor=\"lightgray\",\n",
    "        facecolor=\"lightgray\",\n",
    "        linewidth=2,\n",
    "        transform=fig.transFigure,        # Important: coordinates in figure space\n",
    "        zorder=-10                          # Put behind axes\n",
    "    )\n",
    "    fig.patches.append(rect)\n",
    "\n",
    "\n",
    "# plt.tight_layout()\n",
    "plt.savefig('fig_out/CNN_comparison.png', bbox_inches='tight')\n",
    "plt.show()"
   ]
  },
  {
   "cell_type": "code",
   "execution_count": 123,
   "id": "ba3da600",
   "metadata": {},
   "outputs": [],
   "source": [
    "%%capture\n",
    "fig, axs = plt.subplots(nrows=1, ncols=3)\n",
    "final_dict = cnn_sparse_data_at_is_train_end[-1]\n",
    "gt = final_dict['gts'][2]\n",
    "cnn_pred = final_dict['preds'][2]\n",
    "axs[0].imshow(gt)\n",
    "axs[1].imshow(cnn_pred)\n",
    "axs[2].imshow(sparse_deep_preds['009.tif'])"
   ]
  },
  {
   "cell_type": "code",
   "execution_count": 124,
   "id": "349ffc6f",
   "metadata": {},
   "outputs": [],
   "source": [
    "%%capture\n",
    "fig, axs = plt.subplots(nrows=1, ncols=3)\n",
    "final_dict = cnn_full_data_at_is_train_end[-1]\n",
    "gt = final_dict['gts'][2]\n",
    "cnn_pred = final_dict['preds'][2]\n",
    "axs[0].imshow(gt)\n",
    "axs[1].imshow(cnn_pred)\n",
    "axs[2].imshow(full_deep_preds['009.tif'])"
   ]
  },
  {
   "cell_type": "code",
   "execution_count": 125,
   "id": "dcab1c3f",
   "metadata": {},
   "outputs": [],
   "source": [
    "%%capture\n",
    "fig, axs = plt.subplots(nrows=1, ncols=3)\n",
    "final_dict = cnn_full_data_at_is_train_end[-1]\n",
    "gt = final_dict['gts'][1]\n",
    "cnn_pred = final_dict['preds'][1]\n",
    "axs[0].imshow(gt)\n",
    "axs[1].imshow(cnn_pred)\n",
    "axs[2].imshow(full_deep_preds['019.tif'])"
   ]
  },
  {
   "cell_type": "code",
   "execution_count": 126,
   "id": "3f54a305",
   "metadata": {},
   "outputs": [],
   "source": [
    "%%capture\n",
    "plt.plot(cnn_full_times, cnn_full_mious, color='C0', ls='-')\n",
    "plt.plot(cnn_sparse_times, cnn_sparse_mious, color='C0', ls='--')\n",
    "\n",
    "plt.plot(deep_full_times, deep_full_mious, color='C1', ls='-')\n",
    "plt.plot(deep_sparse_times, deep_sparse_mious, color='C1', ls='--')\n",
    "\n",
    "plt.ylabel('mIoU')\n",
    "plt.xlabel('Time (s)')"
   ]
  }
 ],
 "metadata": {
  "kernelspec": {
   "display_name": "dv2",
   "language": "python",
   "name": "python3"
  },
  "language_info": {
   "codemirror_mode": {
    "name": "ipython",
    "version": 3
   },
   "file_extension": ".py",
   "mimetype": "text/x-python",
   "name": "python",
   "nbconvert_exporter": "python",
   "pygments_lexer": "ipython3",
   "version": "3.12.4"
  }
 },
 "nbformat": 4,
 "nbformat_minor": 5
}
