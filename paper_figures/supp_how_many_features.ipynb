{
  "cells": [
    {
      "cell_type": "code",
      "execution_count": null,
      "id": "83896b0a",
      "metadata": {},
      "outputs": [
        {
          "name": "stdout",
          "output_type": "stream",
          "text": [
            "N CPUS: 110\n"
          ]
        }
      ],
      "source": [
        "import torch\n",
        "import numpy as np\n",
        "from random import seed\n",
        "\n",
        "from vulture.main import get_dv2_model, get_upsampler_and_expr\n",
        "\n",
        "from interactive_seg_backend.configs import FeatureConfig, TrainingConfig\n",
        "from is_helpers import train_model_over_images, apply_model_over_images, eval_preds\n",
        "\n",
        "from typing import Literal\n",
        "\n",
        "SEED = 10672\n",
        "np.random.seed(SEED)\n",
        "torch.manual_seed(SEED)\n",
        "seed(SEED)\n",
        "DEVICE = \"cuda:1\""
      ]
    },
    {
      "cell_type": "code",
      "execution_count": 2,
      "id": "0a47700f",
      "metadata": {},
      "outputs": [
        {
          "name": "stderr",
          "output_type": "stream",
          "text": [
            "Using cache found in /home/ronan/.cache/torch/hub/ywyue_FiT3D_main\n"
          ]
        },
        {
          "name": "stdout",
          "output_type": "stream",
          "text": [
            "[128, 128, 128, 128]\n"
          ]
        }
      ],
      "source": [
        "dv2 = get_dv2_model(True, device=DEVICE)\n",
        "\n",
        "model_path = \"../trained_models/e5000_full_fit_reg.pth\"\n",
        "cfg_path = \"../vulture/models/configs/combined_no_shift.json\"\n",
        "\n",
        "upsampler, expr = get_upsampler_and_expr(model_path, cfg_path, device=DEVICE)"
      ]
    },
    {
      "cell_type": "code",
      "execution_count": 3,
      "id": "cdba9bb8",
      "metadata": {},
      "outputs": [],
      "source": [
        "PATH = \"fig_data/is_benchmark\"\n",
        "AllowedDatasets = Literal[\"Ni_superalloy_SEM\"]\n",
        "dataset: tuple[AllowedDatasets, ...] = (\"Ni_superalloy_SEM\", )\n",
        "\n",
        "TRAIN_IMG_FNAMES: dict[AllowedDatasets, list[str]] = {\n",
        "                                                      \"Ni_superalloy_SEM\": [\"000\", \"001\", \"005\", \"007\"], \n",
        "                                                      }\n",
        "\n",
        "all_classical_preds: dict[AllowedDatasets, dict[str, np.ndarray]] = {k: {} for k in dataset}\n"
      ]
    },
    {
      "cell_type": "code",
      "execution_count": 4,
      "id": "0ebac49e",
      "metadata": {},
      "outputs": [
        {
          "name": "stdout",
          "output_type": "stream",
          "text": [
            "Finished featurising\n",
            "Finished featurising\n",
            "Finished featurising\n",
            "Finished featurising\n",
            "[00/23] - 000.tif\n",
            "[10/23] - 010.tif\n",
            "[20/23] - 020.tif\n",
            "Finished featurising\n",
            "Finished featurising\n",
            "Finished featurising\n",
            "Finished featurising\n",
            "[00/23] - 000.tif\n",
            "[10/23] - 010.tif\n",
            "[20/23] - 020.tif\n",
            "Finished featurising\n",
            "Finished featurising\n",
            "Finished featurising\n",
            "Finished featurising\n",
            "[00/23] - 000.tif\n",
            "[10/23] - 010.tif\n",
            "[20/23] - 020.tif\n",
            "Finished featurising\n",
            "Finished featurising\n",
            "Finished featurising\n",
            "Finished featurising\n",
            "[00/23] - 000.tif\n",
            "[10/23] - 010.tif\n",
            "[20/23] - 020.tif\n",
            "Finished featurising\n",
            "Finished featurising\n",
            "Finished featurising\n",
            "Finished featurising\n",
            "[00/23] - 000.tif\n",
            "[10/23] - 010.tif\n",
            "[20/23] - 020.tif\n"
          ]
        }
      ],
      "source": [
        "k_truncates = (1, 16, 32, 64, 128)\n",
        "all_deep_preds: dict[int, dict[str, np.ndarray]] = {k: {} for k in k_truncates}\n",
        "\n",
        "for k in k_truncates:\n",
        "    SEED = 10672\n",
        "    seed(SEED)\n",
        "    np.random.seed(SEED)\n",
        "    torch.manual_seed(SEED)\n",
        "    chosen_dataset = 'Ni_superalloy_SEM'\n",
        "    feat_cfg = FeatureConfig()\n",
        "\n",
        "    deep_train_cfg = TrainingConfig(feat_cfg, n_samples=-1, add_dino_features=True, classifier='xgb', classifier_params = {\"class_weight\": \"balanced\", \"max_depth\": 32},)\n",
        "    deep_model, pca = train_model_over_images(chosen_dataset, deep_train_cfg, PATH, TRAIN_IMG_FNAMES[chosen_dataset], dv2, upsampler, expr, K=k, overwrite_with_gt=True)\n",
        "\n",
        "    deep_preds = apply_model_over_images(chosen_dataset, deep_train_cfg, deep_model, PATH, dv2, upsampler, expr, K=k, verbose=True, existing_pca=pca)\n",
        "\n",
        "    all_deep_preds[k] = deep_preds"
      ]
    },
    {
      "cell_type": "code",
      "execution_count": 5,
      "id": "6d4edd6d",
      "metadata": {},
      "outputs": [
        {
          "name": "stdout",
          "output_type": "stream",
          "text": [
            "======== Ni_superalloy_SEM ========\n",
            "1: 0.5905+/-0.1527\n",
            "\n",
            "======== Ni_superalloy_SEM ========\n",
            "16: 0.7216+/-0.1588\n",
            "\n",
            "======== Ni_superalloy_SEM ========\n",
            "32: 0.7273+/-0.1589\n",
            "\n",
            "======== Ni_superalloy_SEM ========\n",
            "64: 0.7350+/-0.1593\n",
            "\n",
            "======== Ni_superalloy_SEM ========\n",
            "128: 0.7424+/-0.1562\n",
            "\n"
          ]
        }
      ],
      "source": [
        "for k in  k_truncates:   \n",
        "    deep_preds = all_deep_preds[k]\n",
        "    miou_deep, miou_std_deep = eval_preds(chosen_dataset, deep_preds, PATH )\n",
        "    print(f\"======== {chosen_dataset} ========\")\n",
        "    print(f\"{k}: {miou_deep:.4f}+/-{miou_std_deep:.4f}\\n\")"
      ]
    }
  ],
  "metadata": {
    "kernelspec": {
      "display_name": "dv2",
      "language": "python",
      "name": "python3"
    },
    "language_info": {
      "codemirror_mode": {
        "name": "ipython",
        "version": 3
      },
      "file_extension": ".py",
      "mimetype": "text/x-python",
      "name": "python",
      "nbconvert_exporter": "python",
      "pygments_lexer": "ipython3",
      "version": "3.12.4"
    }
  },
  "nbformat": 4,
  "nbformat_minor": 5
}
