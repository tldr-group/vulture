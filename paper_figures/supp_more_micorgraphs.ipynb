{
 "cells": [
  {
   "cell_type": "code",
   "execution_count": 7,
   "id": "c7dfcb08",
   "metadata": {},
   "outputs": [],
   "source": [
    "from PIL import Image\n",
    "import matplotlib.pyplot as plt\n",
    "from matplotlib.gridspec import GridSpec\n"
   ]
  },
  {
   "cell_type": "code",
   "execution_count": 2,
   "id": "46ca8927",
   "metadata": {},
   "outputs": [],
   "source": [
    "DATA_PATH = \"fig_data/more_micrographs\"\n",
    "img_names = [\"anode\", \"kint\", \"alloy\", \"default\"]\n",
    "imgs = []\n",
    "heights = []\n",
    "for name in img_names:\n",
    "    img = Image.open(f\"{DATA_PATH}/{name}_combined.png\")\n",
    "    imgs.append(img)\n",
    "    heights.append(img.height)\n",
    "\n",
    "\n",
    "\n",
    "def hide_axis_ticks(ax, frameoff: bool=True):\n",
    "    ax.tick_params(which=\"both\", bottom=False, top=False, left=False, right=False)\n",
    "    ax.set_xticklabels([])\n",
    "    ax.set_yticklabels([])\n",
    "\n",
    "    if frameoff:\n",
    "        ax.set_frame_on(False)"
   ]
  },
  {
   "cell_type": "code",
   "execution_count": 14,
   "id": "13db8f2e",
   "metadata": {},
   "outputs": [],
   "source": [
    "%%capture\n",
    "plt.rcParams[\"font.family\"] = \"serif\"\n",
    "\n",
    "TITLE_FS = 25\n",
    "LABEL_FS = 23\n",
    "TICK_FS = 21\n",
    "\n",
    "width = 5\n",
    "height = 5\n",
    "nrows, ncols = 3, 3\n",
    "fig = plt.figure(figsize=(width * ncols, height * nrows ))\n",
    "gs = GridSpec(nrows, ncols, figure=fig, height_ratios=[1, 1, 1], width_ratios=[1, 0.8, 1.2], hspace=0.05 )\n",
    "\n",
    "ax_1 = fig.add_subplot(gs[0, :])\n",
    "ax_2 = fig.add_subplot(gs[1, :])\n",
    "\n",
    "# inner = gs.su (1, 2, subplot_spec=gs[2], width_ratios=[2, 1], wspace=0.05)\n",
    "ax_3 = fig.add_subplot(gs[2, :2])\n",
    "ax_4 = fig.add_subplot(gs[2, 2])\n",
    "\n",
    "axs = [ax_1, ax_2, ax_3, ax_4]\n",
    "titles = [\"SnS2 anode\", \"NMC cathode\", \"Iron alloy\", \"SOFC\"]\n",
    "\n",
    "for i, (img, ax) in enumerate(zip(imgs, axs)):\n",
    "\n",
    "    \n",
    "    ax.imshow(img, aspect='auto')             # ✅ Keep image aspect ratio\n",
    "\n",
    "    ax.set_ylabel(titles[i], fontsize=LABEL_FS)\n",
    "    hide_axis_ticks(ax)\n",
    "# plt.tight_layout()\n",
    "plt.savefig('fig_out/supp_more_micrographs_.png', bbox_inches='tight')"
   ]
  }
 ],
 "metadata": {
  "kernelspec": {
   "display_name": "dv2",
   "language": "python",
   "name": "python3"
  },
  "language_info": {
   "codemirror_mode": {
    "name": "ipython",
    "version": 3
   },
   "file_extension": ".py",
   "mimetype": "text/x-python",
   "name": "python",
   "nbconvert_exporter": "python",
   "pygments_lexer": "ipython3",
   "version": "3.10.14"
  }
 },
 "nbformat": 4,
 "nbformat_minor": 5
}
