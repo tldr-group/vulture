{
 "cells": [
  {
   "cell_type": "code",
   "execution_count": 116,
   "id": "a2ec42dd",
   "metadata": {},
   "outputs": [],
   "source": [
    "import numpy as np\n",
    "import torch\n",
    "from sklearn.preprocessing import minmax_scale\n",
    "\n",
    "from interactive_seg_backend.file_handling import load_image, load_labels\n",
    "from interactive_seg_backend.main import featurise, train_and_apply, TrainingConfig, FeatureConfig\n",
    "\n",
    "from yoeo.main import (\n",
    "    get_hr_feats,\n",
    "    get_dv2_model,\n",
    "    get_upsampler_and_expr,\n",
    ")\n",
    "from yoeo.utils import to_numpy\n",
    "\n",
    "from PIL import Image\n",
    "from skimage.color import label2rgb\n",
    "import matplotlib.pyplot as plt\n",
    "\n",
    "SEED = 10673\n",
    "np.random.seed(SEED)\n",
    "torch.manual_seed(SEED)\n",
    "DEVICE = \"cuda:1\""
   ]
  },
  {
   "cell_type": "code",
   "execution_count": 73,
   "id": "cd64f5bc",
   "metadata": {},
   "outputs": [
    {
     "name": "stderr",
     "output_type": "stream",
     "text": [
      "Using cache found in /home/ronan/.cache/torch/hub/ywyue_FiT3D_main\n"
     ]
    }
   ],
   "source": [
    "dv2 = get_dv2_model(True, device=DEVICE)\n",
    "\n",
    "model_path = \"../trained_models/e5000_full_fit_reg.pth\"\n",
    "cfg_path = \"../yoeo/models/configs/combined_no_shift.json\"\n",
    "\n",
    "upsampler, expr = get_upsampler_and_expr(model_path, cfg_path, device=DEVICE)"
   ]
  },
  {
   "cell_type": "code",
   "execution_count": 74,
   "id": "47225a96",
   "metadata": {},
   "outputs": [],
   "source": [
    "PATH = \"fig_data/supp_pos_bias\"\n",
    "img = load_image(f\"{PATH}/outside3_crop.tif\")\n",
    "labels = load_labels(f\"{PATH}/outside3_crop_labels.tiff\")"
   ]
  },
  {
   "cell_type": "code",
   "execution_count": 111,
   "id": "1300b7a7",
   "metadata": {},
   "outputs": [],
   "source": [
    "hr_feats = get_hr_feats(img, dv2, upsampler, DEVICE, n_ch_in=expr.n_ch_in)\n",
    "hr_feats_np = to_numpy(hr_feats).transpose((1, 2, 0))\n",
    "hr_feats_rgb = hr_feats_np[:, :, :3]"
   ]
  },
  {
   "cell_type": "code",
   "execution_count": 112,
   "id": "9d26bc6a",
   "metadata": {},
   "outputs": [],
   "source": [
    "tc = TrainingConfig(FeatureConfig())\n",
    "classical_feats = featurise(img, tc)\n",
    "\n",
    "seg_with_classical, _, _ = train_and_apply(classical_feats, labels, tc)\n",
    "seg_with_deep, _, _ = train_and_apply(hr_feats_np, labels, tc)"
   ]
  },
  {
   "cell_type": "code",
   "execution_count": 113,
   "id": "222e8cfa",
   "metadata": {},
   "outputs": [],
   "source": [
    "h, w, c = hr_feats_rgb.shape\n",
    "rescaled_flat = minmax_scale(hr_feats_rgb.reshape((h * w, c)))\n",
    "rescaled = rescaled_flat.reshape((h , w, c))"
   ]
  },
  {
   "cell_type": "code",
   "execution_count": 118,
   "id": "b8d8f56d",
   "metadata": {},
   "outputs": [],
   "source": [
    "cmap = [\n",
    "            \"#fafafa\",\n",
    "            \"#1f77b4\",\n",
    "            \"#ff7f0e\",\n",
    "            \"#2ca02c\",\n",
    "            \"#d62728\",\n",
    "        ]\n",
    "color_list = [[255, 255, 255], [31, 119, 180], [255, 127, 14], [44, 160, 44], [255, 0, 0]]\n",
    "COLORS = np.array(color_list) / 255.0"
   ]
  },
  {
   "cell_type": "code",
   "execution_count": 130,
   "id": "bb636f76",
   "metadata": {},
   "outputs": [],
   "source": [
    "def apply_labels_as_overlay(labels: np.ndarray, img: Image.Image, colors: list, alpha: float=1.0) -> Image.Image:\n",
    "    labels_unsqueezed = np.expand_dims(labels, -1)\n",
    "\n",
    "    overlay = label2rgb(labels, colors=colors[1:], kind='overlay', bg_label=0, image_alpha=1, alpha=alpha)\n",
    "    out = np.where(labels_unsqueezed, overlay * 255, np.array(img)).astype(np.uint8)\n",
    "    img_with_labels = Image.fromarray(out)\n",
    "    return img_with_labels\n",
    "\n",
    "def rescale(arr: np.ndarray, swap_channels: bool=True) -> np.ndarray:\n",
    "    if swap_channels:\n",
    "        arr = np.transpose(arr, (1, 2, 0))\n",
    "    h, w, c = arr.shape\n",
    "    flat = arr.reshape((h * w, c))\n",
    "    rescaled_flat = minmax_scale(flat)\n",
    "    return rescaled_flat.reshape((h, w, c))\n",
    "\n",
    "def add_inset_zoom(xywh: list[int], fig_xywh: list[float], img_arr: np.ndarray, labels: np.ndarray | None, ax ) -> object:\n",
    "    x0, y0, w, h = xywh\n",
    "    H, W, C = img_arr.shape\n",
    "    inset_data = np.zeros_like(img_arr)\n",
    "    inset_data[y0:y0+h, x0:x0+w, :] = img_arr[y0:y0+h, x0:x0+w, :]\n",
    "\n",
    "    axin = ax.inset_axes(\n",
    "        fig_xywh, xlim=(x0, x0+w), ylim=(y0, y0+h))\n",
    "    axin.set_xticks([])\n",
    "    axin.set_yticks([])\n",
    "    #axin.set_axis_off()\n",
    "    if labels is not None:\n",
    "        inset_data = label2rgb(labels, img_arr, COLORS[1:], kind='overlay', alpha=0.6, bg_label=-1)\n",
    "        axin.imshow(inset_data,)\n",
    "    else:\n",
    "        axin.imshow(inset_data, cmap=\"binary_r\",) # cmap=\"binary_r\"\n",
    "    ax.indicate_inset_zoom(axin, edgecolor=\"black\", lw=2)\n",
    "    axin.set_ylim((y0 + h, y0))\n",
    "\n",
    "    axin.patch.set_edgecolor('black')  \n",
    "\n",
    "    axin.patch.set_linewidth(4)  \n",
    "\n",
    "    return axin"
   ]
  },
  {
   "cell_type": "code",
   "execution_count": 131,
   "id": "ebb4b49f",
   "metadata": {},
   "outputs": [],
   "source": [
    "img_with_labels = apply_labels_as_overlay(labels, img, COLORS)"
   ]
  },
  {
   "cell_type": "code",
   "execution_count": 155,
   "id": "da0f502c",
   "metadata": {},
   "outputs": [],
   "source": [
    "%%capture\n",
    "TITLE_FS = 25\n",
    "LABEL_FS = 23\n",
    "TICK_FS = 21\n",
    "\n",
    "plt.rcParams[\"font.family\"] = \"serif\"\n",
    "fig, axs = plt.subplots(ncols=4, figsize=(18, 10))\n",
    "axs[0].imshow(img_with_labels, cmap='binary_r')\n",
    "add_inset_zoom([275, 125, 300, 50], [0.4, 0.5, 0.6, 0.3], np.array(img_with_labels), None, axs[0])\n",
    "\n",
    "axs[1].imshow(rescaled)\n",
    "axs[2].imshow(label2rgb(seg_with_deep + 1, colors=COLORS[1:]))\n",
    "axs[3].imshow(label2rgb(seg_with_classical + 1, colors=COLORS[1:]))\n",
    "\n",
    "titles = [\"Image + (biased) labels\", \"HR ViT PCA\", 'HR ViT only', \"Classical\"]\n",
    "for i, ax in enumerate(axs):\n",
    "    ax.set_axis_off()\n",
    "    ax.set_title(titles[i], fontsize=TITLE_FS)\n",
    "plt.tight_layout()\n",
    "plt.savefig('fig_out/supp_pos_bias.png' ,bbox_inches='tight')"
   ]
  }
 ],
 "metadata": {
  "kernelspec": {
   "display_name": "dv2",
   "language": "python",
   "name": "python3"
  },
  "language_info": {
   "codemirror_mode": {
    "name": "ipython",
    "version": 3
   },
   "file_extension": ".py",
   "mimetype": "text/x-python",
   "name": "python",
   "nbconvert_exporter": "python",
   "pygments_lexer": "ipython3",
   "version": "3.12.4"
  }
 },
 "nbformat": 4,
 "nbformat_minor": 5
}
