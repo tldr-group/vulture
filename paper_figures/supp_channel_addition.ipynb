{
  "cells": [
    {
      "cell_type": "code",
      "execution_count": 1,
      "id": "cb6b6534",
      "metadata": {},
      "outputs": [
        {
          "name": "stdout",
          "output_type": "stream",
          "text": [
            "N CPUS: 110\n"
          ]
        },
        {
          "name": "stderr",
          "output_type": "stream",
          "text": [
            "/home/ronan/miniconda3/envs/dv2/lib/python3.12/site-packages/kornia/feature/lightglue.py:44: FutureWarning: `torch.cuda.amp.custom_fwd(args...)` is deprecated. Please use `torch.amp.custom_fwd(args..., device_type='cuda')` instead.\n",
            "  @torch.cuda.amp.custom_fwd(cast_inputs=torch.float32)\n"
          ]
        }
      ],
      "source": [
        "import numpy as np\n",
        "import torch\n",
        "\n",
        "from interactive_seg_backend.file_handling import load_image, load_labels\n",
        "from interactive_seg_backend.main import featurise, train_and_apply, TrainingConfig, FeatureConfig\n",
        "\n",
        "from vulture.main import (\n",
        "    get_hr_feats,\n",
        "    get_dv2_model,\n",
        "    get_upsampler_and_expr,\n",
        ")\n",
        "from vulture.utils import to_numpy\n",
        "from is_helpers import get_deep_feats, train_model_over_images, apply_model_over_images, eval_preds, BaselineAdditions\n",
        "\n",
        "from PIL import Image\n",
        "from skimage.color import label2rgb\n",
        "import matplotlib.pyplot as plt\n",
        "\n",
        "from typing import Any, Literal\n",
        "\n",
        "SEED = 10673\n",
        "np.random.seed(SEED)\n",
        "torch.manual_seed(SEED)\n",
        "DEVICE = \"cuda:1\""
      ]
    },
    {
      "cell_type": "code",
      "execution_count": null,
      "id": "ad735257",
      "metadata": {},
      "outputs": [
        {
          "name": "stderr",
          "output_type": "stream",
          "text": [
            "Using cache found in /home/ronan/.cache/torch/hub/ywyue_FiT3D_main\n"
          ]
        }
      ],
      "source": [
        "dv2 = get_dv2_model(True, device=DEVICE)\n",
        "\n",
        "model_path = \"../trained_models/fit_reg_f128.pth\"\n",
        "# cfg_path = \"../vulture/models/configs/combined_no_shift.json\"\n",
        "\n",
        "upsampler, expr = get_upsampler_and_expr(model_path, None, device=DEVICE)"
      ]
    },
    {
      "cell_type": "code",
      "execution_count": 3,
      "id": "2f5ce408",
      "metadata": {},
      "outputs": [],
      "source": [
        "baselines: list[BaselineAdditions] = [\"random\", \"uniform\", \"duplicate\"]\n",
        "PATH = \"fig_data/is_benchmark\"\n",
        "AllowedDatasets = Literal[\"Ni_superalloy_SEM\", \"T_cell_TEM\", \"Cu_ore_RLM\"]\n",
        "\n",
        "TRAIN_IMG_FNAMES: dict[AllowedDatasets, list[str]] = {\"Cu_ore_RLM\": [\"004\", \"028\", \"049\", \"077\"], \n",
        "                                                      \"Ni_superalloy_SEM\": [\"000\", \"001\", \"005\", \"007\"], \n",
        "                                                      \"T_cell_TEM\": [\"000\", \"005\", \"007\", \"026\"]\n",
        "                                                      }\n",
        "\n",
        "all_preds = {baseline: {} for baseline in baselines}"
      ]
    },
    {
      "cell_type": "code",
      "execution_count": 4,
      "id": "7004b879",
      "metadata": {},
      "outputs": [
        {
          "name": "stdout",
          "output_type": "stream",
          "text": [
            "Finished featurising\n",
            "Finished featurising\n",
            "Finished featurising\n",
            "Finished featurising\n",
            "[00/23] - 000.tif\n",
            "[10/23] - 010.tif\n",
            "[20/23] - 020.tif\n",
            "Finished featurising\n",
            "Finished featurising\n",
            "Finished featurising\n",
            "Finished featurising\n",
            "[00/23] - 000.tif\n",
            "[10/23] - 010.tif\n",
            "[20/23] - 020.tif\n",
            "Finished featurising\n",
            "Finished featurising\n",
            "Finished featurising\n",
            "Finished featurising\n",
            "[00/23] - 000.tif\n",
            "[10/23] - 010.tif\n",
            "[20/23] - 020.tif\n"
          ]
        }
      ],
      "source": [
        "chosen_dataset = \"Ni_superalloy_SEM\"\n",
        "for baseline in baselines:\n",
        "    feat_cfg = FeatureConfig()\n",
        "\n",
        "    classical_train_cfg = TrainingConfig(feat_cfg, n_samples=-1, add_dino_features=False, classifier='xgb', classifier_params = {'class_weight': 'balanced'})\n",
        "    classical_model, _ = train_model_over_images(chosen_dataset, classical_train_cfg, PATH, TRAIN_IMG_FNAMES[chosen_dataset], dv2, upsampler, expr)\n",
        "\n",
        "    classical_preds = apply_model_over_images(chosen_dataset, classical_train_cfg, classical_model, PATH, dv2, upsampler, expr, verbose=True)\n",
        "    all_preds[baseline] = classical_preds"
      ]
    },
    {
      "cell_type": "code",
      "execution_count": 5,
      "id": "4714d579",
      "metadata": {},
      "outputs": [
        {
          "name": "stdout",
          "output_type": "stream",
          "text": [
            "======== random ========\n",
            "mIoU_classical: 0.5409+/-0.1245\n",
            "\n",
            "======== uniform ========\n",
            "mIoU_classical: 0.5422+/-0.1231\n",
            "\n",
            "======== duplicate ========\n",
            "mIoU_classical: 0.5411+/-0.1248\n",
            "\n"
          ]
        }
      ],
      "source": [
        "for baseline in baselines:\n",
        "    classical_preds = all_preds[baseline]\n",
        "    miou_classical, miou_std_classical = eval_preds(chosen_dataset, classical_preds, PATH)\n",
        "    print(f\"======== {baseline} ========\")\n",
        "    print(f\"mIoU_classical: {miou_classical:.4f}+/-{miou_std_classical:.4f}\\n\")"
      ]
    }
  ],
  "metadata": {
    "kernelspec": {
      "display_name": "dv2",
      "language": "python",
      "name": "python3"
    },
    "language_info": {
      "codemirror_mode": {
        "name": "ipython",
        "version": 3
      },
      "file_extension": ".py",
      "mimetype": "text/x-python",
      "name": "python",
      "nbconvert_exporter": "python",
      "pygments_lexer": "ipython3",
      "version": "3.12.4"
    }
  },
  "nbformat": 4,
  "nbformat_minor": 5
}
