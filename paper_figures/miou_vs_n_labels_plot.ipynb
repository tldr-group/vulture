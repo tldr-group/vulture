{
 "cells": [
  {
   "cell_type": "code",
   "execution_count": 17,
   "id": "a40c13b5",
   "metadata": {},
   "outputs": [],
   "source": [
    "import numpy as np\n",
    "import matplotlib.pyplot as plt\n",
    "\n",
    "from typing import Literal"
   ]
  },
  {
   "cell_type": "code",
   "execution_count": 18,
   "id": "fd9498c1",
   "metadata": {},
   "outputs": [],
   "source": [
    "PATH = \"fig_data/is_benchmark\"\n",
    "AllowedDatasets = Literal[\"Ni_superalloy_SEM\", \"T_cell_TEM\", \"Cu_ore_RLM\"]\n",
    "dataset: tuple[AllowedDatasets, ...] = (\"Ni_superalloy_SEM\", \"T_cell_TEM\", \"Cu_ore_RLM\")\n",
    "chosen_datasets: tuple[AllowedDatasets, ...] = (\"Ni_superalloy_SEM\", \"T_cell_TEM\", \"Cu_ore_RLM\")\n",
    "\n",
    "data_dict: dict[AllowedDatasets, dict] = {k: {} for k in chosen_datasets}"
   ]
  },
  {
   "cell_type": "code",
   "execution_count": 19,
   "id": "80012f02",
   "metadata": {},
   "outputs": [],
   "source": [
    "def load_miou_file_modify_dict(path: str, dataset: AllowedDatasets, input_dict: dict[AllowedDatasets, dict]) -> dict[AllowedDatasets, dict]:\n",
    "    structured_arr = np.load(path, allow_pickle=True)\n",
    "    for featureset in ('classical', 'deep'):\n",
    "        key = f\"{featureset}_miou\"\n",
    "        input_dict[dataset][key] = structured_arr.item().get(key)\n",
    "        input_dict[dataset][f\"{key}_std\"] = structured_arr.item().get(f\"{key}_std\")\n",
    "    return input_dict\n",
    "\n",
    "def get_best(dataset: AllowedDatasets, input_dict: dict[AllowedDatasets, dict]):\n",
    "    for featureset in ('classical', 'deep'):\n",
    "        key = f\"{featureset}_miou\"\n",
    "        best_miou = np.amax(input_dict[dataset][key])\n",
    "        best_miou_idx = np.argmax(best_miou)\n",
    "        std = input_dict[dataset][f\"{key}_std\"][best_miou_idx]\n",
    "        print(f\"{dataset} {featureset}: {best_miou:.4f} +/- {std:.4f} \")"
   ]
  },
  {
   "cell_type": "code",
   "execution_count": 20,
   "id": "1e8e97cf",
   "metadata": {},
   "outputs": [],
   "source": [
    "for dataset in chosen_datasets:\n",
    "    load_miou_file_modify_dict(f\"{PATH}/miou_results/{dataset}.npy\", dataset, data_dict)"
   ]
  },
  {
   "cell_type": "code",
   "execution_count": 21,
   "id": "8319b26f",
   "metadata": {},
   "outputs": [
    {
     "name": "stdout",
     "output_type": "stream",
     "text": [
      "Ni_superalloy_SEM classical: 0.7262 +/- 0.1600 \n",
      "Ni_superalloy_SEM deep: 0.8214 +/- 0.0988 \n",
      "T_cell_TEM classical: 0.4052 +/- 0.0872 \n",
      "T_cell_TEM deep: 0.7989 +/- 0.1427 \n",
      "Cu_ore_RLM classical: 0.8812 +/- 0.0516 \n",
      "Cu_ore_RLM deep: 0.8925 +/- 0.0321 \n"
     ]
    }
   ],
   "source": [
    "for k,_ in data_dict.items():\n",
    "    get_best(k, data_dict)"
   ]
  },
  {
   "cell_type": "code",
   "execution_count": 27,
   "id": "2f6bf864",
   "metadata": {},
   "outputs": [],
   "source": [
    "%%capture\n",
    "\n",
    "import matplotlib.lines as mlines\n",
    "\n",
    "plt.rcParams[\"font.family\"] = \"serif\"\n",
    "\n",
    "TITLE_FS = 25\n",
    "LABEL_FS = 23\n",
    "TICK_FS = 21\n",
    "\n",
    "fig = plt.figure(figsize=(8, 8))\n",
    "ax = plt.gca()\n",
    "\n",
    "# markers = ('.', '.', '.')\n",
    "markers = ('.', '^', '*')\n",
    "# linestyles = ('solid', 'solid', 'solid')\n",
    "linestyles = ((0, (1, 1)), 'dashed', 'solid', )\n",
    "colors = ('C0', 'C1', 'C2')\n",
    "\n",
    "lines = []\n",
    "dataset_titles = [\"Ni\", \"T-cell\", \"Cu ore\"]\n",
    "for i in range(len(data_dict.items())):\n",
    "    l = mlines.Line2D([], [], color=f'black', label=dataset_titles[i], lw=3, ls=linestyles[i])\n",
    "    lines.append(l)\n",
    "\n",
    "\n",
    "# Dummy lines for second legend (black, default and dashed linestyle)\n",
    "line4 = mlines.Line2D([], [], color='C0', linestyle='-', label='Classical', lw=3)\n",
    "line5 = mlines.Line2D([], [], color='C1', linestyle='-', label='+HR ViT', lw=3)\n",
    "\n",
    "# lines.append(line4)\n",
    "# lines.append(line5)\n",
    "\n",
    "for i, (ds, vals) in enumerate(data_dict.items()):\n",
    "    n_labels = [4 + i for i in range(0, len(vals['deep_miou']))]\n",
    "\n",
    "    plt.plot(n_labels, vals['classical_miou'], marker=markers[0], lw=5, ms=0, color=colors[0], ls=linestyles[i])\n",
    "    plt.plot(n_labels, vals['deep_miou'], marker=markers[0], lw=5, ms=0, color=colors[1], ls=linestyles[i])\n",
    "\n",
    "plt.xlabel('# labelled images', fontsize=LABEL_FS)\n",
    "plt.ylabel('mIoU', fontsize=LABEL_FS)\n",
    "ax.tick_params(axis='both', labelsize=TICK_FS)\n",
    "\n",
    "ax.grid(True, linestyle=\"--\", alpha=0.6)\n",
    "# plt.legend(fontsize=TICK_FS)\n",
    "\n",
    "\n",
    "first_legend = ax.legend(handles=lines, loc='lower right', fontsize=TICK_FS-4)\n",
    "\n",
    "# Add the second legend\n",
    "second_legend = ax.legend(handles=[line4, line5], loc='lower center', fontsize=TICK_FS-4)\n",
    "\n",
    "ax.add_artist(first_legend)\n",
    "\n",
    "plt.tight_layout(pad=2.5)\n",
    "plt.savefig('fig_out/miou_vs_n_labels.png', bbox_inches='tight')"
   ]
  },
  {
   "cell_type": "code",
   "execution_count": null,
   "id": "4f8b64e9",
   "metadata": {},
   "outputs": [],
   "source": []
  }
 ],
 "metadata": {
  "kernelspec": {
   "display_name": "dv2",
   "language": "python",
   "name": "python3"
  },
  "language_info": {
   "codemirror_mode": {
    "name": "ipython",
    "version": 3
   },
   "file_extension": ".py",
   "mimetype": "text/x-python",
   "name": "python",
   "nbconvert_exporter": "python",
   "pygments_lexer": "ipython3",
   "version": "3.12.4"
  }
 },
 "nbformat": 4,
 "nbformat_minor": 5
}
